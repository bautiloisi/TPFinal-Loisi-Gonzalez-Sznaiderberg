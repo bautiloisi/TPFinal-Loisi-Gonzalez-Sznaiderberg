{
 "cells": [
  {
   "cell_type": "code",
   "execution_count": 1,
   "id": "332f4fb0",
   "metadata": {
    "_cell_guid": "b1076dfc-b9ad-4769-8c92-a6c4dae69d19",
    "_uuid": "8f2839f25d086af736a60e9eeb907d3b93b6e0e5",
    "execution": {
     "iopub.execute_input": "2023-11-13T20:08:34.230555Z",
     "iopub.status.busy": "2023-11-13T20:08:34.229857Z",
     "iopub.status.idle": "2023-11-13T20:08:48.382501Z",
     "shell.execute_reply": "2023-11-13T20:08:48.381150Z"
    },
    "papermill": {
     "duration": 14.161867,
     "end_time": "2023-11-13T20:08:48.385586",
     "exception": false,
     "start_time": "2023-11-13T20:08:34.223719",
     "status": "completed"
    },
    "tags": []
   },
   "outputs": [],
   "source": [
    "import numpy as np\n",
    "import tensorflow as tf\n",
    "from tensorflow.keras.models import Sequential\n",
    "from tensorflow.keras.layers import Conv2D, MaxPooling2D, Flatten, Dense, Dropout\n",
    "from sklearn.model_selection import train_test_split\n",
    "from tensorflow.keras.utils import to_categorical\n",
    "from tensorflow.keras.preprocessing.image import ImageDataGenerator\n",
    "from tensorflow.keras.optimizers import Adam"
   ]
  },
  {
   "cell_type": "code",
   "execution_count": 2,
   "id": "50624a00",
   "metadata": {
    "execution": {
     "iopub.execute_input": "2023-11-13T20:08:48.397291Z",
     "iopub.status.busy": "2023-11-13T20:08:48.395519Z",
     "iopub.status.idle": "2023-11-13T20:08:57.987077Z",
     "shell.execute_reply": "2023-11-13T20:08:57.985803Z"
    },
    "papermill": {
     "duration": 9.599398,
     "end_time": "2023-11-13T20:08:57.990315",
     "exception": false,
     "start_time": "2023-11-13T20:08:48.390917",
     "status": "completed"
    },
    "tags": []
   },
   "outputs": [
    {
     "name": "stdout",
     "output_type": "stream",
     "text": [
      "Found 10000 images belonging to 2 classes.\n",
      "Found 992 images belonging to 2 classes.\n",
      "Found 800 images belonging to 2 classes.\n"
     ]
    }
   ],
   "source": [
    "\n",
    "# Directorios para datos de entrenamiento, prueba y validación\n",
    "train_data_dir = '/kaggle/input/face-mask-12k-images-dataset/Face Mask Dataset/Train'\n",
    "test_data_dir = '/kaggle/input/face-mask-12k-images-dataset/Face Mask Dataset/Test'\n",
    "validation_data_dir = '/kaggle/input/face-mask-12k-images-dataset/Face Mask Dataset/Validation'\n",
    "\n",
    "# Configurar generadores de imágenes para entrenamiento, prueba y validación\n",
    "train_datagen = ImageDataGenerator(\n",
    "    rescale=1./255,\n",
    "    shear_range=0.2,\n",
    "    zoom_range=0.2,\n",
    "    horizontal_flip=True\n",
    ")\n",
    "\n",
    "test_datagen = ImageDataGenerator(rescale=1./255)\n",
    "validation_datagen = ImageDataGenerator(rescale=1./255)\n",
    "\n",
    "# Configurar generadores de datos para entrenamiento, prueba y validación\n",
    "train_generator = train_datagen.flow_from_directory(\n",
    "    train_data_dir,\n",
    "    target_size=(128, 128),\n",
    "    batch_size=32,\n",
    "    class_mode='binary'  # Para clasificación binaria, ajusta según el número de clases\n",
    ")\n",
    "\n",
    "test_generator = test_datagen.flow_from_directory(\n",
    "    test_data_dir,\n",
    "    target_size=(128, 128),\n",
    "    batch_size=32,\n",
    "    class_mode='binary'\n",
    ")\n",
    "\n",
    "validation_generator = validation_datagen.flow_from_directory(\n",
    "    validation_data_dir,\n",
    "    target_size=(128, 128),\n",
    "    batch_size=32,\n",
    "    class_mode='binary'\n",
    ")\n"
   ]
  },
  {
   "cell_type": "code",
   "execution_count": 3,
   "id": "bc118536",
   "metadata": {
    "execution": {
     "iopub.execute_input": "2023-11-13T20:08:58.001037Z",
     "iopub.status.busy": "2023-11-13T20:08:57.999718Z",
     "iopub.status.idle": "2023-11-13T20:46:29.167874Z",
     "shell.execute_reply": "2023-11-13T20:46:29.166293Z"
    },
    "papermill": {
     "duration": 2251.176689,
     "end_time": "2023-11-13T20:46:29.171147",
     "exception": false,
     "start_time": "2023-11-13T20:08:57.994458",
     "status": "completed"
    },
    "tags": []
   },
   "outputs": [
    {
     "name": "stdout",
     "output_type": "stream",
     "text": [
      "Epoch 1/10\n",
      "313/313 [==============================] - 220s 696ms/step - loss: 0.1510 - accuracy: 0.9445 - val_loss: 0.0345 - val_accuracy: 0.9900\n",
      "Epoch 2/10\n",
      "313/313 [==============================] - 210s 669ms/step - loss: 0.0611 - accuracy: 0.9792 - val_loss: 0.0235 - val_accuracy: 0.9900\n",
      "Epoch 3/10\n",
      "313/313 [==============================] - 211s 674ms/step - loss: 0.0441 - accuracy: 0.9848 - val_loss: 0.0449 - val_accuracy: 0.9837\n",
      "Epoch 4/10\n",
      "313/313 [==============================] - 209s 668ms/step - loss: 0.0416 - accuracy: 0.9846 - val_loss: 0.0259 - val_accuracy: 0.9900\n",
      "Epoch 5/10\n",
      "313/313 [==============================] - 207s 660ms/step - loss: 0.0353 - accuracy: 0.9882 - val_loss: 0.0142 - val_accuracy: 0.9950\n",
      "Epoch 6/10\n",
      "313/313 [==============================] - 211s 672ms/step - loss: 0.0342 - accuracy: 0.9875 - val_loss: 0.0269 - val_accuracy: 0.9912\n",
      "Epoch 7/10\n",
      "313/313 [==============================] - 208s 665ms/step - loss: 0.0354 - accuracy: 0.9889 - val_loss: 0.0181 - val_accuracy: 0.9925\n",
      "Epoch 8/10\n",
      "313/313 [==============================] - 209s 666ms/step - loss: 0.0322 - accuracy: 0.9892 - val_loss: 0.0430 - val_accuracy: 0.9875\n",
      "Epoch 9/10\n",
      "313/313 [==============================] - 205s 655ms/step - loss: 0.0308 - accuracy: 0.9891 - val_loss: 0.0213 - val_accuracy: 0.9925\n",
      "Epoch 10/10\n",
      "313/313 [==============================] - 208s 665ms/step - loss: 0.0270 - accuracy: 0.9910 - val_loss: 0.0359 - val_accuracy: 0.9912\n"
     ]
    }
   ],
   "source": [
    "# Definir el modelo de la CNN\n",
    "model = Sequential()\n",
    "\n",
    "# Capa de convolución 1\n",
    "model.add(Conv2D(32, (3, 3), activation='relu', input_shape=(128, 128, 3)))\n",
    "model.add(MaxPooling2D((2, 2)))\n",
    "\n",
    "# Capa de convolución 2\n",
    "model.add(Conv2D(64, (3, 3), activation='relu'))\n",
    "model.add(MaxPooling2D((2, 2)))\n",
    "\n",
    "# Capa de convolución 3\n",
    "model.add(Conv2D(128, (3, 3), activation='relu'))\n",
    "model.add(MaxPooling2D((2, 2)))\n",
    "\n",
    "# Capa completamente conectada\n",
    "model.add(Flatten())\n",
    "model.add(Dense(128, activation='relu'))\n",
    "model.add(Dropout(0.5))  # Dropout para reducir el sobreajuste\n",
    "model.add(Dense(1, activation='sigmoid'))  # 1 neurona para la clasificación binaria\n",
    "\n",
    "# Compilar el modelo\n",
    "model.compile(optimizer=Adam(lr=0.0001), loss='binary_crossentropy', metrics=['accuracy'])\n",
    "\n",
    "# Entrenar el modelo usando el generador de datos\n",
    "history = model.fit(\n",
    "    train_generator,\n",
    "    steps_per_epoch=len(train_generator),\n",
    "    epochs=10,\n",
    "    validation_data=validation_generator,\n",
    "    validation_steps=len(validation_generator)\n",
    ")"
   ]
  },
  {
   "cell_type": "code",
   "execution_count": 4,
   "id": "059e47e9",
   "metadata": {
    "execution": {
     "iopub.execute_input": "2023-11-13T20:46:29.756933Z",
     "iopub.status.busy": "2023-11-13T20:46:29.756522Z",
     "iopub.status.idle": "2023-11-13T20:46:29.854365Z",
     "shell.execute_reply": "2023-11-13T20:46:29.853015Z"
    },
    "papermill": {
     "duration": 0.39093,
     "end_time": "2023-11-13T20:46:29.857440",
     "exception": false,
     "start_time": "2023-11-13T20:46:29.466510",
     "status": "completed"
    },
    "tags": []
   },
   "outputs": [],
   "source": [
    "model.save(\"model.h5\")"
   ]
  },
  {
   "cell_type": "code",
   "execution_count": 5,
   "id": "69a01913",
   "metadata": {
    "execution": {
     "iopub.execute_input": "2023-11-13T20:46:30.451054Z",
     "iopub.status.busy": "2023-11-13T20:46:30.449617Z",
     "iopub.status.idle": "2023-11-13T20:46:30.455836Z",
     "shell.execute_reply": "2023-11-13T20:46:30.454452Z"
    },
    "papermill": {
     "duration": 0.307852,
     "end_time": "2023-11-13T20:46:30.458550",
     "exception": false,
     "start_time": "2023-11-13T20:46:30.150698",
     "status": "completed"
    },
    "tags": []
   },
   "outputs": [],
   "source": [
    "from IPython.display import FileLink, display"
   ]
  },
  {
   "cell_type": "code",
   "execution_count": 6,
   "id": "8075e6d6",
   "metadata": {
    "execution": {
     "iopub.execute_input": "2023-11-13T20:46:31.042379Z",
     "iopub.status.busy": "2023-11-13T20:46:31.041248Z",
     "iopub.status.idle": "2023-11-13T20:46:31.049586Z",
     "shell.execute_reply": "2023-11-13T20:46:31.048561Z"
    },
    "papermill": {
     "duration": 0.302709,
     "end_time": "2023-11-13T20:46:31.051936",
     "exception": false,
     "start_time": "2023-11-13T20:46:30.749227",
     "status": "completed"
    },
    "tags": []
   },
   "outputs": [
    {
     "data": {
      "text/html": [
       "Path (<tt>modelo.h5</tt>) doesn't exist. It may still be in the process of being generated, or you may have the incorrect path."
      ],
      "text/plain": [
       "/kaggle/working/modelo.h5"
      ]
     },
     "metadata": {},
     "output_type": "display_data"
    }
   ],
   "source": [
    "display(FileLink(f'modelo.h5'))"
   ]
  }
 ],
 "metadata": {
  "kaggle": {
   "accelerator": "none",
   "dataSources": [
    {
     "datasetId": 675484,
     "sourceId": 1187790,
     "sourceType": "datasetVersion"
    }
   ],
   "dockerImageVersionId": 30558,
   "isGpuEnabled": false,
   "isInternetEnabled": false,
   "language": "python",
   "sourceType": "notebook"
  },
  "kernelspec": {
   "display_name": "Python 3",
   "language": "python",
   "name": "python3"
  },
  "language_info": {
   "codemirror_mode": {
    "name": "ipython",
    "version": 3
   },
   "file_extension": ".py",
   "mimetype": "text/x-python",
   "name": "python",
   "nbconvert_exporter": "python",
   "pygments_lexer": "ipython3",
   "version": "3.10.12"
  },
  "papermill": {
   "default_parameters": {},
   "duration": 2283.742412,
   "end_time": "2023-11-13T20:46:33.181907",
   "environment_variables": {},
   "exception": null,
   "input_path": "__notebook__.ipynb",
   "output_path": "__notebook__.ipynb",
   "parameters": {},
   "start_time": "2023-11-13T20:08:29.439495",
   "version": "2.4.0"
  }
 },
 "nbformat": 4,
 "nbformat_minor": 5
}
